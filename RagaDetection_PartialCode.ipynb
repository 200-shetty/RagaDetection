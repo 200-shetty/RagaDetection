{
 "cells": [
  {
   "cell_type": "markdown",
   "metadata": {},
   "source": [
    "<center><h1 class=\"list-group-item list-group-item-success\">Importing Libraries</h1></center>"
   ]
  },
  {
   "cell_type": "code",
   "execution_count": 1,
   "metadata": {},
   "outputs": [],
   "source": [
    "import warnings\n",
    "warnings.filterwarnings(\"ignore\")"
   ]
  },
  {
   "cell_type": "code",
   "execution_count": 2,
   "metadata": {},
   "outputs": [],
   "source": [
    "# feature extractoring and preprocessing data\n",
    "import librosa\n",
    "import os\n",
    "import pandas as pd\n",
    "import numpy as np\n",
    "from PIL import Image\n",
    "import pathlib\n",
    "import csv\n",
    "# Preprocessing\n",
    "from sklearn.model_selection import train_test_split\n",
    "from sklearn.preprocessing import LabelEncoder\n",
    "# Result Analysis\n",
    "from sklearn.metrics import classification_report,confusion_matrix,accuracy_score\n",
    "#for graph\n",
    "import matplotlib.pyplot as plt\n",
    "%matplotlib inline\n",
    "import seaborn as sns"
   ]
  },
  {
   "cell_type": "markdown",
   "metadata": {},
   "source": [
    "<center><h1 class=\"list-group-item list-group-item-success\">Extracting the Spectrogram for every Audio</h1></center>"
   ]
  },
  {
   "cell_type": "code",
   "execution_count": 3,
   "metadata": {},
   "outputs": [
    {
     "data": {
      "text/plain": [
       "<Figure size 720x720 with 0 Axes>"
      ]
     },
     "metadata": {},
     "output_type": "display_data"
    }
   ],
   "source": [
    "cmap = plt.get_cmap('inferno')\n",
    "\n",
    "plt.figure(figsize=(10,10))\n",
    "genres = 'asavari bageshree bhairavi bhoopali darbari dkanada malkauns sarangi yaman'.split()\n",
    "for g in genres:\n",
    "    pathlib.Path(f'img_data/{g}').mkdir(parents=True, exist_ok=True)     \n",
    "    for filename in os.listdir(f'./input/genres/{g}'):\n",
    "        songname = f'./input/genres/{g}/{filename}'\n",
    "        y, sr = librosa.load(songname, mono=True, duration=5)\n",
    "        plt.specgram(y, NFFT=2048, Fs=2, Fc=0, noverlap=128, cmap=cmap, sides='default', mode='default', scale='dB');\n",
    "        plt.axis('off');\n",
    "        plt.savefig(f'img_data/{g}/{filename[:-3].replace(\".\", \"\")}.png')\n",
    "        plt.clf()"
   ]
  },
  {
   "cell_type": "code",
   "execution_count": 4,
   "metadata": {},
   "outputs": [],
   "source": [
    "header = 'filename chroma_stft rmse spectral_centroid spectral_bandwidth rolloff zero_crossing_rate'\n",
    "for i in range(1, 21):\n",
    "    header += f' mfcc{i}'\n",
    "header += ' label'\n",
    "header = header.split()"
   ]
  },
  {
   "cell_type": "code",
   "execution_count": 5,
   "metadata": {},
   "outputs": [
    {
     "name": "stdout",
     "output_type": "stream",
     "text": [
      "['filename', 'chroma_stft', 'rmse', 'spectral_centroid', 'spectral_bandwidth', 'rolloff', 'zero_crossing_rate', 'mfcc1', 'mfcc2', 'mfcc3', 'mfcc4', 'mfcc5', 'mfcc6', 'mfcc7', 'mfcc8', 'mfcc9', 'mfcc10', 'mfcc11', 'mfcc12', 'mfcc13', 'mfcc14', 'mfcc15', 'mfcc16', 'mfcc17', 'mfcc18', 'mfcc19', 'mfcc20', 'label']\n"
     ]
    }
   ],
   "source": [
    "print(header)"
   ]
  },
  {
   "cell_type": "markdown",
   "metadata": {},
   "source": [
    "<center><h1 class=\"list-group-item list-group-item-success\">Converting Audio data into Numerical data</h1></center>"
   ]
  },
  {
   "cell_type": "code",
   "execution_count": 6,
   "metadata": {},
   "outputs": [],
   "source": [
    "file = open('NumericalAudioData.csv', 'w', newline='')\n",
    "with file:\n",
    "    writer = csv.writer(file)\n",
    "    writer.writerow(header)\n",
    "genres = 'asavari bageshree bhairavi bhoopali darbari dkanada malkauns sarangi yaman'.split()\n",
    "for g in genres:\n",
    "    for filename in os.listdir(f'input/genres/{g}'):\n",
    "        songname = f'input/genres/{g}/{filename}'\n",
    "        y, sr = librosa.load(songname, mono=True, duration=30)\n",
    "        chroma_stft = librosa.feature.chroma_stft(y=y, sr=sr)\n",
    "        rmse = librosa.feature.rms(y=y)\n",
    "        spec_cent = librosa.feature.spectral_centroid(y=y, sr=sr)\n",
    "        spec_bw = librosa.feature.spectral_bandwidth(y=y, sr=sr)\n",
    "        rolloff = librosa.feature.spectral_rolloff(y=y, sr=sr)\n",
    "        zcr = librosa.feature.zero_crossing_rate(y)\n",
    "        mfcc = librosa.feature.mfcc(y=y, sr=sr)\n",
    "        to_append = f'{filename} {np.mean(chroma_stft)} {np.mean(rmse)} {np.mean(spec_cent)} {np.mean(spec_bw)} {np.mean(rolloff)} {np.mean(zcr)}'    \n",
    "        for e in mfcc:\n",
    "            to_append += f' {np.mean(e)}'\n",
    "        to_append += f' {g}'\n",
    "        file = open('NumericalAudioData.csv', 'a', newline='')\n",
    "        with file:\n",
    "            writer = csv.writer(file)\n",
    "            writer.writerow(to_append.split())"
   ]
  },
  {
   "cell_type": "markdown",
   "metadata": {},
   "source": [
    "<center><h1 class=\"list-group-item list-group-item-success\">Loading Numerical Data</h1></center>"
   ]
  },
  {
   "cell_type": "code",
   "execution_count": 7,
   "metadata": {},
   "outputs": [
    {
     "data": {
      "text/html": [
       "<div>\n",
       "<style scoped>\n",
       "    .dataframe tbody tr th:only-of-type {\n",
       "        vertical-align: middle;\n",
       "    }\n",
       "\n",
       "    .dataframe tbody tr th {\n",
       "        vertical-align: top;\n",
       "    }\n",
       "\n",
       "    .dataframe thead th {\n",
       "        text-align: right;\n",
       "    }\n",
       "</style>\n",
       "<table border=\"1\" class=\"dataframe\">\n",
       "  <thead>\n",
       "    <tr style=\"text-align: right;\">\n",
       "      <th></th>\n",
       "      <th>filename</th>\n",
       "      <th>chroma_stft</th>\n",
       "      <th>rmse</th>\n",
       "      <th>spectral_centroid</th>\n",
       "      <th>spectral_bandwidth</th>\n",
       "      <th>rolloff</th>\n",
       "      <th>zero_crossing_rate</th>\n",
       "      <th>mfcc1</th>\n",
       "      <th>mfcc2</th>\n",
       "      <th>mfcc3</th>\n",
       "      <th>...</th>\n",
       "      <th>mfcc12</th>\n",
       "      <th>mfcc13</th>\n",
       "      <th>mfcc14</th>\n",
       "      <th>mfcc15</th>\n",
       "      <th>mfcc16</th>\n",
       "      <th>mfcc17</th>\n",
       "      <th>mfcc18</th>\n",
       "      <th>mfcc19</th>\n",
       "      <th>mfcc20</th>\n",
       "      <th>label</th>\n",
       "    </tr>\n",
       "  </thead>\n",
       "  <tbody>\n",
       "    <tr>\n",
       "      <th>0</th>\n",
       "      <td>asavari01.wav</td>\n",
       "      <td>0.300161</td>\n",
       "      <td>0.324961</td>\n",
       "      <td>1206.567621</td>\n",
       "      <td>1155.074452</td>\n",
       "      <td>1964.063124</td>\n",
       "      <td>0.074107</td>\n",
       "      <td>-91.933968</td>\n",
       "      <td>161.099350</td>\n",
       "      <td>-74.488129</td>\n",
       "      <td>...</td>\n",
       "      <td>-15.075149</td>\n",
       "      <td>2.221334</td>\n",
       "      <td>-13.635890</td>\n",
       "      <td>-0.755338</td>\n",
       "      <td>-8.236355</td>\n",
       "      <td>-22.957357</td>\n",
       "      <td>-7.823898</td>\n",
       "      <td>-16.780188</td>\n",
       "      <td>-16.577990</td>\n",
       "      <td>asavari</td>\n",
       "    </tr>\n",
       "    <tr>\n",
       "      <th>1</th>\n",
       "      <td>asavari02.wav</td>\n",
       "      <td>0.327850</td>\n",
       "      <td>0.284077</td>\n",
       "      <td>1427.434167</td>\n",
       "      <td>1217.015600</td>\n",
       "      <td>2564.101162</td>\n",
       "      <td>0.092367</td>\n",
       "      <td>-91.262489</td>\n",
       "      <td>158.845825</td>\n",
       "      <td>-97.338806</td>\n",
       "      <td>...</td>\n",
       "      <td>-21.968050</td>\n",
       "      <td>-4.073037</td>\n",
       "      <td>-15.467768</td>\n",
       "      <td>-5.395582</td>\n",
       "      <td>-16.699156</td>\n",
       "      <td>-21.583614</td>\n",
       "      <td>-9.299034</td>\n",
       "      <td>-17.798979</td>\n",
       "      <td>-12.778995</td>\n",
       "      <td>asavari</td>\n",
       "    </tr>\n",
       "    <tr>\n",
       "      <th>2</th>\n",
       "      <td>asavari03.wav</td>\n",
       "      <td>0.327850</td>\n",
       "      <td>0.284077</td>\n",
       "      <td>1427.435947</td>\n",
       "      <td>1217.020555</td>\n",
       "      <td>2564.117828</td>\n",
       "      <td>0.092369</td>\n",
       "      <td>-91.262520</td>\n",
       "      <td>158.845764</td>\n",
       "      <td>-97.338806</td>\n",
       "      <td>...</td>\n",
       "      <td>-21.968170</td>\n",
       "      <td>-4.073009</td>\n",
       "      <td>-15.467854</td>\n",
       "      <td>-5.395608</td>\n",
       "      <td>-16.699158</td>\n",
       "      <td>-21.583727</td>\n",
       "      <td>-9.298958</td>\n",
       "      <td>-17.799126</td>\n",
       "      <td>-12.778892</td>\n",
       "      <td>asavari</td>\n",
       "    </tr>\n",
       "    <tr>\n",
       "      <th>3</th>\n",
       "      <td>asavari04.wav</td>\n",
       "      <td>0.321701</td>\n",
       "      <td>0.237798</td>\n",
       "      <td>1199.283236</td>\n",
       "      <td>1119.983898</td>\n",
       "      <td>1982.813010</td>\n",
       "      <td>0.076578</td>\n",
       "      <td>-134.367966</td>\n",
       "      <td>170.141495</td>\n",
       "      <td>-64.378136</td>\n",
       "      <td>...</td>\n",
       "      <td>-18.552418</td>\n",
       "      <td>-7.358620</td>\n",
       "      <td>-9.861775</td>\n",
       "      <td>-6.847193</td>\n",
       "      <td>-5.516914</td>\n",
       "      <td>-16.985310</td>\n",
       "      <td>-3.949524</td>\n",
       "      <td>-11.181010</td>\n",
       "      <td>-13.042615</td>\n",
       "      <td>asavari</td>\n",
       "    </tr>\n",
       "    <tr>\n",
       "      <th>4</th>\n",
       "      <td>asavari05.wav</td>\n",
       "      <td>0.280912</td>\n",
       "      <td>0.328013</td>\n",
       "      <td>1176.467509</td>\n",
       "      <td>1109.866943</td>\n",
       "      <td>1948.938215</td>\n",
       "      <td>0.069996</td>\n",
       "      <td>-86.146996</td>\n",
       "      <td>171.169571</td>\n",
       "      <td>-77.141792</td>\n",
       "      <td>...</td>\n",
       "      <td>-25.675896</td>\n",
       "      <td>1.374275</td>\n",
       "      <td>-12.453374</td>\n",
       "      <td>-13.393021</td>\n",
       "      <td>-13.500705</td>\n",
       "      <td>-14.911995</td>\n",
       "      <td>2.030809</td>\n",
       "      <td>-11.524114</td>\n",
       "      <td>-14.092502</td>\n",
       "      <td>asavari</td>\n",
       "    </tr>\n",
       "  </tbody>\n",
       "</table>\n",
       "<p>5 rows × 28 columns</p>\n",
       "</div>"
      ],
      "text/plain": [
       "        filename  chroma_stft      rmse  spectral_centroid  \\\n",
       "0  asavari01.wav     0.300161  0.324961        1206.567621   \n",
       "1  asavari02.wav     0.327850  0.284077        1427.434167   \n",
       "2  asavari03.wav     0.327850  0.284077        1427.435947   \n",
       "3  asavari04.wav     0.321701  0.237798        1199.283236   \n",
       "4  asavari05.wav     0.280912  0.328013        1176.467509   \n",
       "\n",
       "   spectral_bandwidth      rolloff  zero_crossing_rate       mfcc1  \\\n",
       "0         1155.074452  1964.063124            0.074107  -91.933968   \n",
       "1         1217.015600  2564.101162            0.092367  -91.262489   \n",
       "2         1217.020555  2564.117828            0.092369  -91.262520   \n",
       "3         1119.983898  1982.813010            0.076578 -134.367966   \n",
       "4         1109.866943  1948.938215            0.069996  -86.146996   \n",
       "\n",
       "        mfcc2      mfcc3  ...     mfcc12    mfcc13     mfcc14     mfcc15  \\\n",
       "0  161.099350 -74.488129  ... -15.075149  2.221334 -13.635890  -0.755338   \n",
       "1  158.845825 -97.338806  ... -21.968050 -4.073037 -15.467768  -5.395582   \n",
       "2  158.845764 -97.338806  ... -21.968170 -4.073009 -15.467854  -5.395608   \n",
       "3  170.141495 -64.378136  ... -18.552418 -7.358620  -9.861775  -6.847193   \n",
       "4  171.169571 -77.141792  ... -25.675896  1.374275 -12.453374 -13.393021   \n",
       "\n",
       "      mfcc16     mfcc17    mfcc18     mfcc19     mfcc20    label  \n",
       "0  -8.236355 -22.957357 -7.823898 -16.780188 -16.577990  asavari  \n",
       "1 -16.699156 -21.583614 -9.299034 -17.798979 -12.778995  asavari  \n",
       "2 -16.699158 -21.583727 -9.298958 -17.799126 -12.778892  asavari  \n",
       "3  -5.516914 -16.985310 -3.949524 -11.181010 -13.042615  asavari  \n",
       "4 -13.500705 -14.911995  2.030809 -11.524114 -14.092502  asavari  \n",
       "\n",
       "[5 rows x 28 columns]"
      ]
     },
     "execution_count": 7,
     "metadata": {},
     "output_type": "execute_result"
    }
   ],
   "source": [
    "data = pd.read_csv(filepath_or_buffer='NumericalAudioData_1.csv')\n",
    "data.head()"
   ]
  },
  {
   "cell_type": "code",
   "execution_count": 8,
   "metadata": {},
   "outputs": [
    {
     "name": "stdout",
     "output_type": "stream",
     "text": [
      "(656, 28)\n"
     ]
    }
   ],
   "source": [
    "print(data.shape)"
   ]
  },
  {
   "cell_type": "code",
   "execution_count": 9,
   "metadata": {},
   "outputs": [
    {
     "data": {
      "text/plain": [
       "bageshree    96\n",
       "asavari      80\n",
       "bhairavi     80\n",
       "bhoopali     80\n",
       "malkauns     80\n",
       "sarangi      80\n",
       "yaman        80\n",
       "darbari      40\n",
       "dkanada      40\n",
       "Name: label, dtype: int64"
      ]
     },
     "execution_count": 9,
     "metadata": {},
     "output_type": "execute_result"
    }
   ],
   "source": [
    "data[\"label\"].value_counts()"
   ]
  },
  {
   "cell_type": "markdown",
   "metadata": {},
   "source": [
    "<center><h1 class=\"list-group-item list-group-item-success\"> Data Visualization</h1></center>"
   ]
  },
  {
   "cell_type": "code",
   "execution_count": 13,
   "metadata": {},
   "outputs": [
    {
     "data": {
      "image/png": "[encoded data removed]",
      "text/plain": [
       "<Figure size 1296x576 with 1 Axes>"
      ]
     },
     "metadata": {
      "needs_background": "light"
     },
     "output_type": "display_data"
    }
   ],
   "source": [
    "plt.figure(figsize=(18,8))\n",
    "plt.rcParams[\"font.size\"]=18\n",
    "ax=sns.countplot(\"label\",data=data,palette=\"mako\")\n",
    "plt.title(label=\"Records size from each classes\")\n",
    "plt.ylim(0,120)\n",
    "for p in ax.patches:\n",
    "    ax.annotate((p.get_height()),(p.get_x()+0.18,p.get_height()+10))\n",
    "plt.show()"
   ]
  },
  {
   "cell_type": "code",
   "execution_count": 14,
   "metadata": {},
   "outputs": [],
   "source": [
    "# Dropping unneccesary columns\n",
    "data = data.drop(['filename'],axis=1)"
   ]
  },
  {
   "cell_type": "code",
   "execution_count": 15,
   "metadata": {},
   "outputs": [
    {
     "data": {
      "text/plain": [
       "(656, 27)"
      ]
     },
     "execution_count": 15,
     "metadata": {},
     "output_type": "execute_result"
    }
   ],
   "source": [
    "data.shape"
   ]
  },
  {
   "cell_type": "code",
   "execution_count": 16,
   "metadata": {},
   "outputs": [
    {
     "name": "stdout",
     "output_type": "stream",
     "text": [
      "<class 'pandas.core.frame.DataFrame'>\n",
      "RangeIndex: 656 entries, 0 to 655\n",
      "Data columns (total 27 columns):\n",
      " #   Column              Non-Null Count  Dtype  \n",
      "---  ------              --------------  -----  \n",
      " 0   chroma_stft         656 non-null    float64\n",
      " 1   rmse                656 non-null    float64\n",
      " 2   spectral_centroid   656 non-null    float64\n",
      " 3   spectral_bandwidth  656 non-null    float64\n",
      " 4   rolloff             656 non-null    float64\n",
      " 5   zero_crossing_rate  656 non-null    float64\n",
      " 6   mfcc1               656 non-null    float64\n",
      " 7   mfcc2               656 non-null    float64\n",
      " 8   mfcc3               656 non-null    float64\n",
      " 9   mfcc4               656 non-null    float64\n",
      " 10  mfcc5               656 non-null    float64\n",
      " 11  mfcc6               656 non-null    float64\n",
      " 12  mfcc7               656 non-null    float64\n",
      " 13  mfcc8               656 non-null    float64\n",
      " 14  mfcc9               656 non-null    float64\n",
      " 15  mfcc10              656 non-null    float64\n",
      " 16  mfcc11              656 non-null    float64\n",
      " 17  mfcc12              656 non-null    float64\n",
      " 18  mfcc13              656 non-null    float64\n",
      " 19  mfcc14              656 non-null    float64\n",
      " 20  mfcc15              656 non-null    float64\n",
      " 21  mfcc16              656 non-null    float64\n",
      " 22  mfcc17              656 non-null    float64\n",
      " 23  mfcc18              656 non-null    float64\n",
      " 24  mfcc19              656 non-null    float64\n",
      " 25  mfcc20              656 non-null    float64\n",
      " 26  label               656 non-null    object \n",
      "dtypes: float64(26), object(1)\n",
      "memory usage: 138.5+ KB\n"
     ]
    }
   ],
   "source": [
    "data.info()"
   ]
  },
  {
   "cell_type": "markdown",
   "metadata": {},
   "source": [
    "<center><h1 class=\"list-group-item list-group-item-success\">Encoding Labels</h1></center>"
   ]
  },
  {
   "cell_type": "code",
   "execution_count": 17,
   "metadata": {},
   "outputs": [],
   "source": [
    "genre_list = data.iloc[:, -1]\n",
    "encoder = LabelEncoder()\n",
    "y = encoder.fit_transform(genre_list)"
   ]
  },
  {
   "cell_type": "code",
   "execution_count": 18,
   "metadata": {
    "scrolled": true
   },
   "outputs": [],
   "source": [
    "data['label'] = y"
   ]
  },
  {
   "cell_type": "code",
   "execution_count": 19,
   "metadata": {},
   "outputs": [],
   "source": [
    "X=data.drop(labels=\"label\",axis=1)\n",
    "y=data[\"label\"]"
   ]
  },
  {
   "cell_type": "code",
   "execution_count": 20,
   "metadata": {},
   "outputs": [
    {
     "data": {
      "text/plain": [
       "1    96\n",
       "0    80\n",
       "2    80\n",
       "3    80\n",
       "6    80\n",
       "7    80\n",
       "8    80\n",
       "4    40\n",
       "5    40\n",
       "Name: label, dtype: int64"
      ]
     },
     "execution_count": 20,
     "metadata": {},
     "output_type": "execute_result"
    }
   ],
   "source": [
    "y.value_counts()"
   ]
  },
  {
   "cell_type": "code",
   "execution_count": 21,
   "metadata": {},
   "outputs": [
    {
     "data": {
      "text/plain": [
       "chroma_stft           0\n",
       "rmse                  0\n",
       "spectral_centroid     0\n",
       "spectral_bandwidth    0\n",
       "rolloff               0\n",
       "zero_crossing_rate    0\n",
       "mfcc1                 0\n",
       "mfcc2                 0\n",
       "mfcc3                 0\n",
       "mfcc4                 0\n",
       "mfcc5                 0\n",
       "mfcc6                 0\n",
       "mfcc7                 0\n",
       "mfcc8                 0\n",
       "mfcc9                 0\n",
       "mfcc10                0\n",
       "mfcc11                0\n",
       "mfcc12                0\n",
       "mfcc13                0\n",
       "mfcc14                0\n",
       "mfcc15                0\n",
       "mfcc16                0\n",
       "mfcc17                0\n",
       "mfcc18                0\n",
       "mfcc19                0\n",
       "mfcc20                0\n",
       "dtype: int64"
      ]
     },
     "execution_count": 21,
     "metadata": {},
     "output_type": "execute_result"
    }
   ],
   "source": [
    "X.isnull().sum()"
   ]
  },
  {
   "cell_type": "markdown",
   "metadata": {},
   "source": [
    "<center><h1 class=\"list-group-item list-group-item-success\">Oversampling Low Records Classes</h1></center>"
   ]
  },
  {
   "cell_type": "code",
   "execution_count": 22,
   "metadata": {},
   "outputs": [],
   "source": [
    "from imblearn.over_sampling import SMOTE\n",
    "smote=SMOTE(k_neighbors=3)\n",
    "X,y=smote.fit_resample(X,y)"
   ]
  },
  {
   "cell_type": "code",
   "execution_count": 23,
   "metadata": {},
   "outputs": [
    {
     "data": {
      "text/plain": [
       "0    96\n",
       "1    96\n",
       "2    96\n",
       "3    96\n",
       "4    96\n",
       "5    96\n",
       "6    96\n",
       "7    96\n",
       "8    96\n",
       "Name: label, dtype: int64"
      ]
     },
     "execution_count": 23,
     "metadata": {},
     "output_type": "execute_result"
    }
   ],
   "source": [
    "y.value_counts()"
   ]
  },
  {
   "cell_type": "code",
   "execution_count": 27,
   "metadata": {},
   "outputs": [
    {
     "data": {
      "image/png": "[encoded data removed]",
      "text/plain": [
       "<Figure size 1296x576 with 1 Axes>"
      ]
     },
     "metadata": {
      "needs_background": "light"
     },
     "output_type": "display_data"
    }
   ],
   "source": [
    "plt.figure(figsize=(18,8))\n",
    "plt.rcParams[\"font.size\"]=18\n",
    "ax=sns.countplot(y,palette=\"winter\")\n",
    "plt.title(label=\"Records size from each classes\")\n",
    "plt.ylim(0,120)\n",
    "for p in ax.patches:\n",
    "    ax.annotate((p.get_height()),(p.get_x()+0.18,p.get_height()+10))\n",
    "plt.show()"
   ]
  },
  {
   "cell_type": "markdown",
   "metadata": {},
   "source": [
    "## Thank You"
   ]
  }
 ],
 "metadata": {
  "kernelspec": {
   "display_name": "Python 3 (ipykernel)",
   "language": "python",
   "name": "python3"
  },
  "language_info": {
   "codemirror_mode": {
    "name": "ipython",
    "version": 3
   },
   "file_extension": ".py",
   "mimetype": "text/x-python",
   "name": "python",
   "nbconvert_exporter": "python",
   "pygments_lexer": "ipython3",
   "version": "3.9.7"
  }
 },
 "nbformat": 4,
 "nbformat_minor": 2
}
